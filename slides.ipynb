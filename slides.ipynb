{
 "cells": [
  {
   "cell_type": "markdown",
   "metadata": {
    "slideshow": {
     "slide_type": "slide"
    }
   },
   "source": [
    "# Decoding the Frustrations and Vulnerabilities of Modern Text Processing\n",
    "## Evan Kohilas"
   ]
  },
  {
   "cell_type": "markdown",
   "metadata": {
    "slideshow": {
     "slide_type": "slide"
    }
   },
   "source": [
    "Hello!\n",
    "\n",
    "This is my 2nd pycon, and my first conference talk!\n",
    "\n",
    "I'm here because..."
   ]
  },
  {
   "cell_type": "markdown",
   "metadata": {
    "slideshow": {
     "slide_type": "slide"
    }
   },
   "source": [
    "### Text processing is awesome!!!"
   ]
  },
  {
   "cell_type": "markdown",
   "metadata": {
    "slideshow": {
     "slide_type": "fragment"
    }
   },
   "source": [
    "# Until...\n",
    "![](https://pbs.twimg.com/media/DE35D56UwAALgoJ.jpg:large)"
   ]
  },
  {
   "cell_type": "markdown",
   "metadata": {
    "slideshow": {
     "slide_type": "slide"
    }
   },
   "source": [
    "# Join me in part of my adventure\n",
    "![adventure time](http://www.indiewire.com/wp-content/uploads/2015/03/adventure-time.png?w=780)"
   ]
  },
  {
   "cell_type": "markdown",
   "metadata": {
    "slideshow": {
     "slide_type": "slide"
    }
   },
   "source": [
    "But first lets learn about strings"
   ]
  },
  {
   "cell_type": "markdown",
   "metadata": {
    "slideshow": {
     "slide_type": "slide"
    }
   },
   "source": [
    "### Python 2:  \n",
    "* Unicode:\n",
    "    ``` python\n",
    "    print(u\"...\")\n",
    "    ```\n",
    "* Bytes:\n",
    "    ``` python\n",
    "    print(\"...\")\n",
    "    ```\n",
    "    \n",
    "### Python 3:  \n",
    "* Unicode:\n",
    "    ``` python\n",
    "    print(\"...\")\n",
    "    ```\n",
    "* Bytes:\n",
    "    ``` python\n",
    "    print(b\"...\")\n",
    "    ```"
   ]
  },
  {
   "cell_type": "markdown",
   "metadata": {
    "slideshow": {
     "slide_type": "slide"
    }
   },
   "source": [
    "Easy right?"
   ]
  },
  {
   "cell_type": "markdown",
   "metadata": {
    "slideshow": {
     "slide_type": "fragment"
    }
   },
   "source": [
    "# No...\n",
    "![](https://media.tenor.com/images/014788c2a75ff6380650f34ca92e04df/tenor.gif)"
   ]
  },
  {
   "cell_type": "markdown",
   "metadata": {
    "slideshow": {
     "slide_type": "slide"
    }
   },
   "source": [
    "Even with all this uncode support in python3, we *still* come across errors "
   ]
  },
  {
   "cell_type": "markdown",
   "metadata": {
    "slideshow": {
     "slide_type": "fragment"
    }
   },
   "source": [
    "Python 2 would do implicit conversions, but now with python3, although there's more support, things are more strict and everything has to be explicit."
   ]
  },
  {
   "cell_type": "markdown",
   "metadata": {
    "slideshow": {
     "slide_type": "slide"
    }
   },
   "source": [
    "# Bytes vs. Unicode?"
   ]
  },
  {
   "cell_type": "markdown",
   "metadata": {
    "slideshow": {
     "slide_type": "slide"
    }
   },
   "source": [
    "So, Unicode strings are cool right?!"
   ]
  },
  {
   "cell_type": "markdown",
   "metadata": {
    "slideshow": {
     "slide_type": "fragment"
    }
   },
   "source": [
    "😎😎😎👍👍👍🔥🔥🔥😍😍😍"
   ]
  },
  {
   "cell_type": "markdown",
   "metadata": {
    "slideshow": {
     "slide_type": "fragment"
    }
   },
   "source": [
    "こんにちは"
   ]
  },
  {
   "cell_type": "markdown",
   "metadata": {
    "slideshow": {
     "slide_type": "fragment"
    }
   },
   "source": [
    "Ḩ̱̙͔͍͉̦̖̮̩͍̝̣ͪ͐͋͐͊ę̭̟̫͇͔̖̠̲̣̬̯͇͍͎̖̟̘̩ͣ͗̽ͯ͢ͅl̸̢̢̢̯̣͇͉̜̥͖̺̭̤̪̣̤̬͚͚̠̪ͣ̅͋͌̒͐̾ͬ̋̄̇͌̊̄͂̽̿ͪͯl̷̵̳͚̠͕͓̈̈́̒͗̄̋ͭ̃̔ͬ͑ͩ̂ǫ̹̼̟͙̋̃͗̏̊̃̎͑ͮ͑̄̏̚̕ ̶̷͓͔͍͇̗̞̫̩͎̗̟̰̗̩̳̗̜̇̅̾͐ͮ̈̔͒̓̈́ͣ̽̂̉͊̀W̴̧͉̱̩̤̞̻ͯ́͋̓̏̓̌ͦ̃ͮ̂̀̕͟o̸̸͕̭͚͇̫̜̮̲͙͐͒͂̒͑̂ͧ̕͢͡ͅŗ̳̳͚̱͈̺̩̹̰͓́͒̔̌ͯͪ̀ͥͣ̐͂ͪͤ͗ͅl̵̪̹̫̠̺̱̯̤͓̞̝̗̆̈́̄̏́͟d̢͇̰̩̹̋͛͌̂ͩ̓ͤ̓́̀͘ͅ"
   ]
  },
  {
   "cell_type": "markdown",
   "metadata": {
    "slideshow": {
     "slide_type": "slide"
    }
   },
   "source": [
    "But what can we do with byte strings?"
   ]
  },
  {
   "cell_type": "markdown",
   "metadata": {
    "slideshow": {
     "slide_type": "fragment"
    }
   },
   "source": [
    "They can do some useful things, like"
   ]
  },
  {
   "cell_type": "code",
   "execution_count": 1,
   "metadata": {
    "slideshow": {
     "slide_type": "fragment"
    }
   },
   "outputs": [
    {
     "name": "stdout",
     "output_type": "stream",
     "text": [
      "97 a\n"
     ]
    }
   ],
   "source": [
    "s = b\"abc\"\n",
    "a = s[0]\n",
    "print(a, chr(a))"
   ]
  },
  {
   "cell_type": "markdown",
   "metadata": {
    "slideshow": {
     "slide_type": "slide"
    }
   },
   "source": [
    "How do I make them?\n",
    "* Make a bytes literal string\n",
    "    * `b\"this is a bytes string\"`\n",
    "* Use the `bytes()` Constructor\n",
    "* `\"string\".encode(encoding = ..., errors = ...)`\n",
    "* And more"
   ]
  },
  {
   "cell_type": "markdown",
   "metadata": {
    "slideshow": {
     "slide_type": "fragment"
    }
   },
   "source": [
    "Converting back...\n",
    "* `b\"bytes\".decode(encoding = ..., errors = ...)`\n",
    "* `str(object = b\"\", encoding = ..., errors = ...)`"
   ]
  },
  {
   "cell_type": "markdown",
   "metadata": {
    "slideshow": {
     "slide_type": "slide"
    }
   },
   "source": [
    "However something really cool..."
   ]
  },
  {
   "cell_type": "code",
   "execution_count": 2,
   "metadata": {
    "slideshow": {
     "slide_type": "fragment"
    }
   },
   "outputs": [
    {
     "name": "stdout",
     "output_type": "stream",
     "text": [
      "b'.\\xf0\\xf2\\xf1'\n",
      "2ef0f2f1\n"
     ]
    }
   ],
   "source": [
    "b = bytes.fromhex(\"2e f0f2 F1\")\n",
    "print(b)\n",
    "print(b.hex())"
   ]
  },
  {
   "cell_type": "markdown",
   "metadata": {
    "slideshow": {
     "slide_type": "fragment"
    }
   },
   "source": [
    "Handy!"
   ]
  },
  {
   "cell_type": "markdown",
   "metadata": {
    "slideshow": {
     "slide_type": "slide"
    }
   },
   "source": [
    "So let's pretend you're me..."
   ]
  },
  {
   "cell_type": "markdown",
   "metadata": {
    "slideshow": {
     "slide_type": "fragment"
    }
   },
   "source": [
    "And you're trying to use these byte things for science!"
   ]
  },
  {
   "cell_type": "markdown",
   "metadata": {
    "slideshow": {
     "slide_type": "fragment"
    }
   },
   "source": [
    "Trying to smash the stack"
   ]
  },
  {
   "cell_type": "markdown",
   "metadata": {
    "slideshow": {
     "slide_type": "slide"
    }
   },
   "source": [
    "If you don't know what stack smashing is (aka buffer overflow exploits)\n",
    "\n",
    "It's about overflowing a buffer to overwrite memory at a specific location with a malicious value."
   ]
  },
  {
   "cell_type": "markdown",
   "metadata": {
    "slideshow": {
     "slide_type": "slide"
    }
   },
   "source": [
    "So you write this...\n",
    "``` bash\n",
    "$ python3 -c 'print(\"3\"*72 + \"\\xdb\\x07\\x40\\x00\")' > smash\n",
    "```"
   ]
  },
  {
   "cell_type": "markdown",
   "metadata": {
    "slideshow": {
     "slide_type": "slide"
    }
   },
   "source": [
    "But it works for all my friends in Python2!\n",
    "``` bash\n",
    "$ python2 -c 'print(\"3\"*72 + \"\\xdb\\x07\\x40\\x00\")' > smash\n",
    "```"
   ]
  },
  {
   "cell_type": "markdown",
   "metadata": {
    "slideshow": {
     "slide_type": "slide"
    }
   },
   "source": [
    "# Why?"
   ]
  },
  {
   "cell_type": "markdown",
   "metadata": {
    "slideshow": {
     "slide_type": "fragment"
    }
   },
   "source": [
    "* In Python3, sys.stdout is a Text I/O object\n",
    "* And sys.stdout isn't bytes writeable!\n",
    "* So when you print a string to stdout in Python3, it will first be encoded into utf8, thus not printing the bytes that we want\n",
    "* ![](https://cdn1.iconfinder.com/data/icons/emoticon-set-volume-4/512/emoticon-60-512.png)"
   ]
  },
  {
   "cell_type": "markdown",
   "metadata": {
    "slideshow": {
     "slide_type": "slide"
    }
   },
   "source": [
    "This creates problems whenever anything is trying to write as bytes through print."
   ]
  },
  {
   "cell_type": "markdown",
   "metadata": {
    "slideshow": {
     "slide_type": "fragment"
    }
   },
   "source": [
    "For example:\n",
    "\n",
    "``` python\n",
    "sys.stdout = codecs.getwriter(\"utf-8\")(sys.stdout.detach())\n",
    "```\n",
    "Would be the main solution to:"
   ]
  },
  {
   "cell_type": "markdown",
   "metadata": {
    "slideshow": {
     "slide_type": "fragment"
    }
   },
   "source": [
    "*\"Halp a unicode dragon is breathing fire\"*\n",
    "![](http://www.chrisdillustration.com/wp-content/uploads/2017/03/dragon_fire_vector_LRGsliderthumb.jpg)"
   ]
  },
  {
   "cell_type": "markdown",
   "metadata": {
    "slideshow": {
     "slide_type": "slide"
    }
   },
   "source": [
    "``` python\n",
    "sys.stdout = codecs.getwriter(\"utf-8\")(sys.stdout.detach())\n",
    "```\n",
    "This gets the streamwriter for the utf8 encoding, then detaches the sys.stdout buffer and sets that as the stream..."
   ]
  },
  {
   "cell_type": "markdown",
   "metadata": {
    "slideshow": {
     "slide_type": "slide"
    }
   },
   "source": [
    "What's a better fix?"
   ]
  },
  {
   "cell_type": "markdown",
   "metadata": {
    "slideshow": {
     "slide_type": "fragment"
    }
   },
   "source": [
    "``` python\n",
    "import sys; sys.stdout.buffer.write(b\"3\"*72 + b\"\\xdb\\x07\\x40\\x00\")\n",
    "```"
   ]
  },
  {
   "cell_type": "markdown",
   "metadata": {
    "slideshow": {
     "slide_type": "fragment"
    }
   },
   "source": [
    "Writes bytes directly to the stdout buffer!"
   ]
  },
  {
   "cell_type": "markdown",
   "metadata": {
    "slideshow": {
     "slide_type": "slide"
    }
   },
   "source": [
    "There's another problem though...\n",
    "\n",
    "Like, what's this encoded in?"
   ]
  },
  {
   "cell_type": "markdown",
   "metadata": {
    "slideshow": {
     "slide_type": "fragment"
    }
   },
   "source": [
    "By default, the character encoding is dependant on your system, taken from `locale.getpreferredencoding()`\n",
    "\n",
    "And of course Windows likes to do things differently."
   ]
  },
  {
   "cell_type": "markdown",
   "metadata": {
    "slideshow": {
     "slide_type": "slide"
    }
   },
   "source": [
    "But if you're really stuck, you should check out the `errors` argument.\n",
    "\n",
    "* strict - default\n",
    "* ignore \n",
    "* replace\n",
    "* xmlcharrefreplace \n",
    "* backslashreplace\n",
    "* namereplace - \\N{...} (names escape sequences\n",
    "* surrogateescape - Replaces using the surrogate unicode characters\n",
    "\n",
    "So it lets you do things like ignoring unicode errors entirely!\n",
    "\n",
    "Or escaping/replacing them, as you should be...\n",
    "\n",
    "https://docs.python.org/3/library/codecs.html#error-handlers"
   ]
  },
  {
   "cell_type": "markdown",
   "metadata": {
    "slideshow": {
     "slide_type": "slide"
    }
   },
   "source": [
    "So we went over `u''` and `b''` string literals..."
   ]
  },
  {
   "cell_type": "markdown",
   "metadata": {
    "slideshow": {
     "slide_type": "fragment"
    }
   },
   "source": [
    "Can we break text processing in other ways?"
   ]
  },
  {
   "cell_type": "markdown",
   "metadata": {
    "slideshow": {
     "slide_type": "fragment"
    }
   },
   "source": [
    "What about f-strings?"
   ]
  },
  {
   "cell_type": "markdown",
   "metadata": {
    "slideshow": {
     "slide_type": "slide"
    }
   },
   "source": [
    "Well first, lets take a step back in time into `str.format`"
   ]
  },
  {
   "cell_type": "markdown",
   "metadata": {
    "slideshow": {
     "slide_type": "fragment"
    }
   },
   "source": [
    "But to do that, What is a format string exploit?"
   ]
  },
  {
   "cell_type": "markdown",
   "metadata": {
    "slideshow": {
     "slide_type": "fragment"
    }
   },
   "source": [
    "It's about taking advantage of string formatting to create malicious execution"
   ]
  },
  {
   "cell_type": "markdown",
   "metadata": {
    "slideshow": {
     "slide_type": "slide"
    }
   },
   "source": [
    "``` c\n",
    "#include <stdio.h>\n",
    "\n",
    "int main(int argc, char *argv[]){\n",
    "    char *s;\n",
    "    scanf(\"%s\", &s);\n",
    "    printf(s);\n",
    "}\n",
    "```"
   ]
  },
  {
   "cell_type": "markdown",
   "metadata": {
    "slideshow": {
     "slide_type": "slide"
    }
   },
   "source": [
    "``` c\n",
    "#include <stdio.h>\n",
    "\n",
    "int main(int argc, char *argv[]){\n",
    "    char *s;\n",
    "    scanf(\"%s\", &s);\n",
    "    printf(\"%s\", s);\n",
    "}\n",
    "```"
   ]
  },
  {
   "cell_type": "markdown",
   "metadata": {
    "slideshow": {
     "slide_type": "slide"
    }
   },
   "source": [
    "Does Python have them?"
   ]
  },
  {
   "cell_type": "markdown",
   "metadata": {
    "slideshow": {
     "slide_type": "fragment"
    }
   },
   "source": [
    "Yes!"
   ]
  },
  {
   "cell_type": "markdown",
   "metadata": {
    "slideshow": {
     "slide_type": "fragment"
    }
   },
   "source": [
    "http://cse.unsw.edu.au/~evank/format_string/"
   ]
  },
  {
   "cell_type": "markdown",
   "metadata": {
    "slideshow": {
     "slide_type": "slide"
    }
   },
   "source": [
    "``` python\n",
    "{.__init__.__globals__[USERS][1].password}\n",
    "```"
   ]
  },
  {
   "cell_type": "markdown",
   "metadata": {
    "slideshow": {
     "slide_type": "fragment"
    }
   },
   "source": [
    "``` python\n",
    "{.__init__.__globals__[app].secret_key}\n",
    "\n",
    "```"
   ]
  },
  {
   "cell_type": "markdown",
   "metadata": {
    "slideshow": {
     "slide_type": "slide"
    }
   },
   "source": [
    "How do we fix them?\n",
    "\n",
    "http://lucumr.pocoo.org/2016/12/29/careful-with-str-format/"
   ]
  },
  {
   "cell_type": "markdown",
   "metadata": {
    "slideshow": {
     "slide_type": "slide"
    }
   },
   "source": [
    "So now what about these new fancy f-strings?"
   ]
  },
  {
   "cell_type": "markdown",
   "metadata": {
    "slideshow": {
     "slide_type": "fragment"
    }
   },
   "source": [
    "Well, they're pretty cool."
   ]
  },
  {
   "cell_type": "code",
   "execution_count": 3,
   "metadata": {
    "slideshow": {
     "slide_type": "fragment"
    }
   },
   "outputs": [
    {
     "name": "stdout",
     "output_type": "stream",
     "text": [
      "hello!\n",
      "hello!\n"
     ]
    }
   ],
   "source": [
    "print(f\"{input()}\")"
   ]
  },
  {
   "cell_type": "markdown",
   "metadata": {
    "slideshow": {
     "slide_type": "slide"
    }
   },
   "source": [
    "Can we break them?"
   ]
  },
  {
   "cell_type": "markdown",
   "metadata": {
    "slideshow": {
     "slide_type": "slide"
    }
   },
   "source": [
    "Well to start with:\n",
    "* f-strings don't use or have access to locals and globals.\n",
    "* Recursive interpolation is not supported"
   ]
  },
  {
   "cell_type": "code",
   "execution_count": 4,
   "metadata": {
    "slideshow": {
     "slide_type": "slide"
    }
   },
   "outputs": [
    {
     "data": {
      "text/plain": [
       "'a'"
      ]
     },
     "execution_count": 4,
     "metadata": {},
     "output_type": "execute_result"
    }
   ],
   "source": [
    "# What about this?\n",
    "# What happens here?\n",
    "a = \"a\"\n",
    "b = \"b\"\n",
    "f\"{a}\".format(a = b)"
   ]
  },
  {
   "cell_type": "markdown",
   "metadata": {
    "slideshow": {
     "slide_type": "fragment"
    }
   },
   "source": [
    "f-strings are evaluted during parsing, and thus get evaluated before we can even get to execute the .format"
   ]
  },
  {
   "cell_type": "code",
   "execution_count": 5,
   "metadata": {
    "slideshow": {
     "slide_type": "slide"
    }
   },
   "outputs": [
    {
     "ename": "SyntaxError",
     "evalue": "f-string expression part cannot include a backslash (<ipython-input-5-05a68932bd07>, line 3)",
     "output_type": "error",
     "traceback": [
      "\u001b[0;36m  File \u001b[0;32m\"<ipython-input-5-05a68932bd07>\"\u001b[0;36m, line \u001b[0;32m3\u001b[0m\n\u001b[0;31m    f\"{s.replace('\\\\', '')}\"\u001b[0m\n\u001b[0m                            ^\u001b[0m\n\u001b[0;31mSyntaxError\u001b[0m\u001b[0;31m:\u001b[0m f-string expression part cannot include a backslash\n"
     ]
    }
   ],
   "source": [
    "# What will this do?\n",
    "s = r\"esc\\ape\"\n",
    "f\"{s.replace('\\\\', '')}\""
   ]
  },
  {
   "cell_type": "markdown",
   "metadata": {
    "slideshow": {
     "slide_type": "fragment"
    }
   },
   "source": [
    "f-strings can't contain backslashes :("
   ]
  },
  {
   "cell_type": "markdown",
   "metadata": {
    "slideshow": {
     "slide_type": "slide"
    }
   },
   "source": [
    "Can they contain colons?"
   ]
  },
  {
   "cell_type": "code",
   "execution_count": 6,
   "metadata": {
    "slideshow": {
     "slide_type": "fragment"
    }
   },
   "outputs": [
    {
     "data": {
      "text/plain": [
       "'         0'"
      ]
     },
     "execution_count": 6,
     "metadata": {},
     "output_type": "execute_result"
    }
   ],
   "source": [
    "l = (0, 1, 2)\n",
    "f\"{l[:1][0]:10}\""
   ]
  },
  {
   "cell_type": "markdown",
   "metadata": {
    "slideshow": {
     "slide_type": "slide"
    }
   },
   "source": [
    "What about a lambda?"
   ]
  },
  {
   "cell_type": "code",
   "execution_count": 8,
   "metadata": {
    "slideshow": {
     "slide_type": "fragment"
    }
   },
   "outputs": [
    {
     "ename": "SyntaxError",
     "evalue": "unexpected EOF while parsing (<fstring>, line 1)",
     "output_type": "error",
     "traceback": [
      "\u001b[0;36m  File \u001b[0;32m\"<fstring>\"\u001b[0;36m, line \u001b[0;32m1\u001b[0m\n\u001b[0;31m    (lambda x)\u001b[0m\n\u001b[0m             ^\u001b[0m\n\u001b[0;31mSyntaxError\u001b[0m\u001b[0;31m:\u001b[0m unexpected EOF while parsing\n"
     ]
    }
   ],
   "source": [
    "l = [3, 2, 1]\n",
    "f\"lambda : {lambda x: x**2}\""
   ]
  },
  {
   "cell_type": "markdown",
   "metadata": {
    "slideshow": {
     "slide_type": "slide"
    }
   },
   "source": [
    "f-strings inside f-strings?"
   ]
  },
  {
   "cell_type": "code",
   "execution_count": 9,
   "metadata": {
    "slideshow": {
     "slide_type": "fragment"
    }
   },
   "outputs": [
    {
     "name": "stdout",
     "output_type": "stream",
     "text": [
      "b\n"
     ]
    }
   ],
   "source": [
    "a = \"hello\"\n",
    "print(f\"\"\"{a.replace(f\"{a.replace('a', 'c')}\", \"b\")}\"\"\")"
   ]
  },
  {
   "cell_type": "markdown",
   "metadata": {
    "slideshow": {
     "slide_type": "slide"
    }
   },
   "source": [
    "nesting?"
   ]
  },
  {
   "cell_type": "code",
   "execution_count": 10,
   "metadata": {
    "slideshow": {
     "slide_type": "fragment"
    }
   },
   "outputs": [
    {
     "ename": "SyntaxError",
     "evalue": "f-string: expressions nested too deeply (<ipython-input-10-a9c0ef26de06>, line 1)",
     "output_type": "error",
     "traceback": [
      "\u001b[0;36m  File \u001b[0;32m\"<ipython-input-10-a9c0ef26de06>\"\u001b[0;36m, line \u001b[0;32m1\u001b[0m\n\u001b[0;31m    f\"result: {value:{width:{0}}.{precision:1}}\"\u001b[0m\n\u001b[0m                                                ^\u001b[0m\n\u001b[0;31mSyntaxError\u001b[0m\u001b[0;31m:\u001b[0m f-string: expressions nested too deeply\n"
     ]
    }
   ],
   "source": [
    "f\"result: {value:{width:{0}}.{precision:1}}\""
   ]
  },
  {
   "cell_type": "markdown",
   "metadata": {
    "slideshow": {
     "slide_type": "slide"
    }
   },
   "source": [
    "So, it's pretty hard to break things using user input like we did with .format\n",
    "that is provided you don't eval or exec anything that user input is in control of."
   ]
  },
  {
   "cell_type": "markdown",
   "metadata": {
    "slideshow": {
     "slide_type": "fragment"
    }
   },
   "source": [
    "But who would do that right?"
   ]
  },
  {
   "cell_type": "markdown",
   "metadata": {
    "slideshow": {
     "slide_type": "fragment"
    }
   },
   "source": [
    "``` python\n",
    "os.system(f\"echo {message_from_user}\")\n",
    "myquery = sql(f\"SELECT {column} FROM {table};\")\n",
    "myresponse = html(f\"<html><body>{response.body}</body></html>\")\n",
    "```"
   ]
  },
  {
   "cell_type": "markdown",
   "metadata": {
    "slideshow": {
     "slide_type": "slide"
    }
   },
   "source": [
    "how do we fix **that**?"
   ]
  },
  {
   "cell_type": "markdown",
   "metadata": {
    "slideshow": {
     "slide_type": "fragment"
    }
   },
   "source": [
    "PEP501 Proposes i-strings, which are like f-strings but can be escaped before rendered"
   ]
  },
  {
   "cell_type": "markdown",
   "metadata": {
    "collapsed": true,
    "slideshow": {
     "slide_type": "slide"
    }
   },
   "source": [
    "So I hope now you have some extra knowledge"
   ]
  },
  {
   "cell_type": "markdown",
   "metadata": {
    "slideshow": {
     "slide_type": "slide"
    }
   },
   "source": [
    "In how to avoid this:\n",
    "\n",
    "![](https://pbs.twimg.com/media/DE35GiCUMAAXbCu.jpg)"
   ]
  },
  {
   "cell_type": "markdown",
   "metadata": {
    "slideshow": {
     "slide_type": "slide"
    }
   },
   "source": [
    "and this:\n",
    "\n",
    "![](http://diysolarpanelsv.com/images/dragon-fire-clipart-4.jpg)"
   ]
  },
  {
   "cell_type": "markdown",
   "metadata": {
    "slideshow": {
     "slide_type": "slide"
    }
   },
   "source": [
    "# Evan Kohilas\n",
    "## Thanks!\n",
    "### Questions?\n",
    "### Tweet at me: @ekohilas\n",
    "### All source on github.com/ekohilas"
   ]
  }
 ],
 "metadata": {
  "celltoolbar": "Slideshow",
  "kernelspec": {
   "display_name": "Python 3",
   "language": "python",
   "name": "python3"
  },
  "language_info": {
   "codemirror_mode": {
    "name": "ipython",
    "version": 3
   },
   "file_extension": ".py",
   "mimetype": "text/x-python",
   "name": "python",
   "nbconvert_exporter": "python",
   "pygments_lexer": "ipython3",
   "version": "3.6.2"
  }
 },
 "nbformat": 4,
 "nbformat_minor": 2
}
